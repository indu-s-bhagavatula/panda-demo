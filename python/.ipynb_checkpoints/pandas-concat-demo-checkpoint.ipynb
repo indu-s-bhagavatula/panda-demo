{
 "cells": [
  {
   "cell_type": "code",
   "execution_count": 39,
   "metadata": {
    "collapsed": true
   },
   "outputs": [],
   "source": [
    "import pandas\n",
    "import glob"
   ]
  },
  {
   "cell_type": "code",
   "execution_count": 40,
   "metadata": {},
   "outputs": [],
   "source": [
    "DATA_FILE_HOME=\"../data/\"\n",
    "FILE_NAME_FORMAT=\"concat*.csv\""
   ]
  },
  {
   "cell_type": "code",
   "execution_count": 41,
   "metadata": {
    "collapsed": true
   },
   "outputs": [],
   "source": [
    "concat_df = []"
   ]
  },
  {
   "cell_type": "code",
   "execution_count": 42,
   "metadata": {
    "collapsed": true
   },
   "outputs": [],
   "source": [
    "list_of_concat_files = glob.glob(DATA_FILE_HOME + FILE_NAME_FORMAT)"
   ]
  },
  {
   "cell_type": "code",
   "execution_count": 43,
   "metadata": {
    "collapsed": true
   },
   "outputs": [],
   "source": [
    "for concat_file in list_of_concat_files:\n",
    "    concat_df.append(pandas.read_csv(concat_file))"
   ]
  },
  {
   "cell_type": "code",
   "execution_count": 44,
   "metadata": {},
   "outputs": [
    {
     "name": "stdout",
     "output_type": "stream",
     "text": [
      "     A    B    C    D\n",
      "0   a0   b0   c0   d0\n",
      "1   a1   b1   c1   d1\n",
      "2   a2   b2   c2   d2\n",
      "3   a3   b3   c3   d3\n",
      "0   a8   b8   c8   d8\n",
      "1   a9   b9   c9   d9\n",
      "2  a10  b10  c10  d10\n",
      "3  a11  b11  c11  d11\n",
      "0   a4   b4   c4   d4\n",
      "1   a5   b5   c5   d5\n",
      "2   a6   b6   c6   d6\n",
      "3   a7   b7   c7   d7\n"
     ]
    }
   ],
   "source": [
    "# Row wise append\n",
    "row_concat = pandas.concat(concat_df)\n",
    "print (row_concat)"
   ]
  },
  {
   "cell_type": "code",
   "execution_count": 45,
   "metadata": {},
   "outputs": [
    {
     "name": "stdout",
     "output_type": "stream",
     "text": [
      "    A   B   C   D    A    B    C    D   A   B   C   D\n",
      "0  a0  b0  c0  d0   a8   b8   c8   d8  a4  b4  c4  d4\n",
      "1  a1  b1  c1  d1   a9   b9   c9   d9  a5  b5  c5  d5\n",
      "2  a2  b2  c2  d2  a10  b10  c10  d10  a6  b6  c6  d6\n",
      "3  a3  b3  c3  d3  a11  b11  c11  d11  a7  b7  c7  d7\n"
     ]
    }
   ],
   "source": [
    "# Col wise concat\n",
    "col_concat = pandas.concat(concat_df,axis=1)\n",
    "print(col_concat)"
   ]
  },
  {
   "cell_type": "code",
   "execution_count": 46,
   "metadata": {},
   "outputs": [
    {
     "name": "stdout",
     "output_type": "stream",
     "text": [
      "    A    A   A\n",
      "0  a0   a8  a4\n",
      "1  a1   a9  a5\n",
      "2  a2  a10  a6\n",
      "3  a3  a11  a7\n"
     ]
    }
   ],
   "source": [
    "# Subsetting the above column result set with multiple columns having the same name\n",
    "print(col_concat['A'])"
   ]
  },
  {
   "cell_type": "code",
   "execution_count": null,
   "metadata": {
    "collapsed": true
   },
   "outputs": [],
   "source": []
  }
 ],
 "metadata": {
  "kernelspec": {
   "display_name": "Python 2",
   "language": "python",
   "name": "python2"
  },
  "language_info": {
   "codemirror_mode": {
    "name": "ipython",
    "version": 2
   },
   "file_extension": ".py",
   "mimetype": "text/x-python",
   "name": "python",
   "nbconvert_exporter": "python",
   "pygments_lexer": "ipython2",
   "version": "2.7.14"
  }
 },
 "nbformat": 4,
 "nbformat_minor": 2
}
